{
 "cells": [
  {
   "cell_type": "code",
   "execution_count": 2,
   "id": "4933c348",
   "metadata": {},
   "outputs": [
    {
     "name": "stderr",
     "output_type": "stream",
     "text": [
      "Ultralytics YOLOv8.0.53 🚀 Python-3.10.0 torch-1.13.1 CPU\n",
      "Setup complete ✅ (8 CPUs, 16.0 GB RAM, 157.3/465.6 GB disk)\n"
     ]
    }
   ],
   "source": [
    "try :\n",
    "    import ultralytics\n",
    "except :\n",
    "    print(\"Downloading ultralytics ...\")\n",
    "    %pip install ultralytics --quiet\n",
    "    import ultralytics\n",
    "    \n",
    "ultralytics.checks()"
   ]
  },
  {
   "cell_type": "code",
   "execution_count": 3,
   "id": "bf922f3d",
   "metadata": {},
   "outputs": [],
   "source": [
    "from ultralytics import YOLO\n",
    "import torch\n",
    "import cv2\n",
    "from PIL import Image"
   ]
  },
  {
   "cell_type": "code",
   "execution_count": 4,
   "id": "c0b4abec",
   "metadata": {},
   "outputs": [
    {
     "name": "stdout",
     "output_type": "stream",
     "text": [
      "False\n",
      "0\n"
     ]
    }
   ],
   "source": [
    "print(torch.cuda.is_available()) #no GPU\n",
    "print(torch.cuda.device_count())"
   ]
  },
  {
   "cell_type": "code",
   "execution_count": 6,
   "id": "2086c4ec",
   "metadata": {},
   "outputs": [
    {
     "name": "stderr",
     "output_type": "stream",
     "text": [
      "\n",
      "Downloading https://ultralytics.com/images/bus.jpg to bus.jpg...\n",
      "⚠️ Download failure, retrying 1/3 https://ultralytics.com/images/bus.jpg...\n",
      "######################################################################## 100.0%#=#=#                                                                         \n",
      "image 1/1 /Users/dorian/Documents/ENSAM/2A/PJT-YOLO/PJT-ENSAM-YOLO/bus.jpg: 640x480 4 persons, 1 bus, 1 stop sign, 93.1ms\n",
      "Speed: 1.3ms preprocess, 93.1ms inference, 0.8ms postprocess per image at shape (1, 3, 640, 640)\n",
      "Ultralytics YOLOv8.0.53 🚀 Python-3.10.0 torch-1.13.1 CPU\n",
      "\n",
      "\u001b[34m\u001b[1mPyTorch:\u001b[0m starting from yolov8n.pt with input shape (1, 3, 640, 640) BCHW and output shape(s) (1, 84, 8400) (6.2 MB)\n",
      "\u001b[31m\u001b[1mrequirements:\u001b[0m YOLOv8 requirement \"onnx>=1.12.0\" not found, attempting AutoUpdate...\n",
      "Collecting onnx>=1.12.0\n",
      "  Downloading onnx-1.13.1-cp310-cp310-macosx_10_12_x86_64.whl (12.7 MB)\n",
      "     ━━━━━━━━━━━━━━━━━━━━━━━━━━━━━━━━━━━━━━━━ 12.7/12.7 MB 2.2 MB/s eta 0:00:00\n",
      "Requirement already satisfied: numpy>=1.16.6 in /Users/dorian/Documents/ENSAM/2A/PJT-YOLO/.env/lib/python3.10/site-packages (from onnx>=1.12.0) (1.23.5)\n",
      "Requirement already satisfied: typing-extensions>=3.6.2.1 in /Users/dorian/Documents/ENSAM/2A/PJT-YOLO/.env/lib/python3.10/site-packages (from onnx>=1.12.0) (4.4.0)\n",
      "Collecting protobuf<4,>=3.20.2\n",
      "  Downloading protobuf-3.20.3-py2.py3-none-any.whl (162 kB)\n",
      "     ━━━━━━━━━━━━━━━━━━━━━━━━━━━━━━━━━━━━━━━ 162.1/162.1 kB 4.5 MB/s eta 0:00:00\n",
      "Installing collected packages: protobuf, onnx\n",
      "Successfully installed onnx-1.13.1 protobuf-3.20.3\n",
      "\n",
      "\u001b[31m\u001b[1mrequirements:\u001b[0m 1 package updated per ['onnx>=1.12.0']\n",
      "\u001b[31m\u001b[1mrequirements:\u001b[0m ⚠️ \u001b[1mRestart runtime or rerun command for updates to take effect\u001b[0m\n",
      "\n",
      "\u001b[34m\u001b[1mONNX:\u001b[0m export failure ❌ 11.6s: No module named 'onnx'\n"
     ]
    }
   ],
   "source": [
    "model = YOLO(\"yolov8n.pt\")\n",
    "results = model('https://ultralytics.com/images/bus.jpg')  # predict on an image\n",
    "success = model.export(format='onnx')"
   ]
  },
  {
   "cell_type": "code",
   "execution_count": 12,
   "id": "b6b1f15d",
   "metadata": {},
   "outputs": [
    {
     "name": "stdout",
     "output_type": "stream",
     "text": [
      "Note: you may need to restart the kernel to use updated packages.\n"
     ]
    }
   ],
   "source": [
    "%pip install onnx --quiet"
   ]
  },
  {
   "cell_type": "code",
   "execution_count": null,
   "id": "717b876c",
   "metadata": {},
   "outputs": [],
   "source": []
  }
 ],
 "metadata": {
  "kernelspec": {
   "display_name": "Python 3 (ipykernel)",
   "language": "python",
   "name": "python3"
  },
  "language_info": {
   "codemirror_mode": {
    "name": "ipython",
    "version": 3
   },
   "file_extension": ".py",
   "mimetype": "text/x-python",
   "name": "python",
   "nbconvert_exporter": "python",
   "pygments_lexer": "ipython3",
   "version": "3.10.0"
  },
  "varInspector": {
   "cols": {
    "lenName": 16,
    "lenType": 16,
    "lenVar": 40
   },
   "kernels_config": {
    "python": {
     "delete_cmd_postfix": "",
     "delete_cmd_prefix": "del ",
     "library": "var_list.py",
     "varRefreshCmd": "print(var_dic_list())"
    },
    "r": {
     "delete_cmd_postfix": ") ",
     "delete_cmd_prefix": "rm(",
     "library": "var_list.r",
     "varRefreshCmd": "cat(var_dic_list()) "
    }
   },
   "types_to_exclude": [
    "module",
    "function",
    "builtin_function_or_method",
    "instance",
    "_Feature"
   ],
   "window_display": false
  }
 },
 "nbformat": 4,
 "nbformat_minor": 5
}
